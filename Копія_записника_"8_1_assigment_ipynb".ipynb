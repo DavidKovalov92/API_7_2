{
  "cells": [
    {
      "cell_type": "markdown",
      "metadata": {
        "id": "view-in-github",
        "colab_type": "text"
      },
      "source": [
        "<a href=\"https://colab.research.google.com/github/DavidKovalov92/API_7_2/blob/master/%D0%9A%D0%BE%D0%BF%D1%96%D1%8F_%D0%B7%D0%B0%D0%BF%D0%B8%D1%81%D0%BD%D0%B8%D0%BA%D0%B0_%228_1_assigment_ipynb%22.ipynb\" target=\"_parent\"><img src=\"https://colab.research.google.com/assets/colab-badge.svg\" alt=\"Open In Colab\"/></a>"
      ]
    },
    {
      "cell_type": "markdown",
      "metadata": {
        "id": "2_R_Ya7UhcB8"
      },
      "source": [
        "# Assignment 8.1\n",
        "\n",
        "> Replace all TODOs with your code.\n",
        ">\n",
        "> Do not change any other code and do not add/remove cells!"
      ]
    },
    {
      "cell_type": "markdown",
      "metadata": {
        "id": "N1SWwMSshfVz"
      },
      "source": [
        "## Classes"
      ]
    },
    {
      "cell_type": "markdown",
      "metadata": {
        "id": "OY8NxJ-CiePg"
      },
      "source": [
        "### Task 1\n",
        "\n",
        "Define a Python class named `Interval` with the following specifications:\n",
        "\n",
        "1. The class should have a constructor (\\_\\_init__) that takes two parameters, start and end, and initializes the interval with these values.\n",
        "2. Ensure that both start and end are numeric (either integers or floats).\n",
        "3. Ensure that the start value is less than or equal to the end value.\n",
        "4. Provide a \\_\\_str__ method to return a string representation of the interval in the format \"[start, end]\"."
      ]
    },
    {
      "cell_type": "code",
      "execution_count": 1,
      "metadata": {
        "id": "VBFmFWDXjQPT",
        "colab": {
          "base_uri": "https://localhost:8080/"
        },
        "outputId": "f163e94c-54aa-4cdb-d794-9971314f56a2"
      },
      "outputs": [
        {
          "output_type": "stream",
          "name": "stdout",
          "text": [
            "Interval [1, 5]\n"
          ]
        }
      ],
      "source": [
        "class Interval:\n",
        "    def __init__(self, start, end):\n",
        "        self.start = start\n",
        "        self.end = end\n",
        "        self.is_num()\n",
        "        self.real()\n",
        "\n",
        "    def is_num(self):\n",
        "        if isinstance(self.start, int) and isinstance(self.end, int) or isinstance(self.start, float) and isinstance(self.end, float):\n",
        "            return self.start, self.end\n",
        "        elif isinstance(self.start, str) or isinstance(self.end, str) or isinstance(self.start, float) or isinstance(self.end, float):\n",
        "            raise ValueError('Does not fit')\n",
        "\n",
        "\n",
        "    def real(self):\n",
        "        if self.start > self.end:\n",
        "            raise ValueError('Start must be smaller than end')\n",
        "        elif self.start <= self.end:\n",
        "            return self.start, self.end\n",
        "\n",
        "\n",
        "\n",
        "    def __str__(self):\n",
        "        return f'Interval [{self.start}, {self.end}]'\n",
        "\n",
        "\n",
        "interval = Interval(1, 5)\n",
        "print(interval)"
      ]
    },
    {
      "cell_type": "markdown",
      "metadata": {
        "id": "pJ72CYiylhIY"
      },
      "source": [
        "### Task 2\n",
        "\n",
        "Expand the Interval class by adding a method named `is_overlapping` that checks whether the current interval overlaps with another interval. The method should take another Interval object as a parameter and return `True` if there is an overlap and `False` otherwise."
      ]
    },
    {
      "cell_type": "code",
      "execution_count": null,
      "metadata": {
        "id": "7t64cfMdl3qe"
      },
      "outputs": [],
      "source": [
        "class Interval:\n",
        "    def __init__(self, start, end):\n",
        "        self.start = start\n",
        "        self.end = end\n",
        "        self.is_num()\n",
        "        self.real()\n",
        "\n",
        "    def is_num(self):\n",
        "        if isinstance(self.start, int) and isinstance(self.end, int) or isinstance(self.start, float) and isinstance(\n",
        "                self.end, float):\n",
        "            return self.start, self.end\n",
        "        elif isinstance(self.start, str) or isinstance(self.end, str) or isinstance(self.start, float) or isinstance(\n",
        "                self.end, float):\n",
        "            raise ValueError('Does not fit')\n",
        "\n",
        "    def real(self):\n",
        "        if self.start > self.end:\n",
        "            raise ValueError('Start must be smaller than end')\n",
        "        elif self.start <= self.end:\n",
        "            return self.start, self.end\n",
        "\n",
        "    def __str__(self):\n",
        "        return f'Interval [{self.start}, {self.end}]'\n",
        "\n",
        "    def is_overlapping(self, other_interval):\n",
        "        for i in range(self.start, self.end + 1):\n",
        "            for j in range(other_interval.start, other_interval.end + 1):\n",
        "                if i == j:\n",
        "                    return True\n",
        "        return False\n",
        "\n",
        "\n",
        "interval1 = Interval(1, 5)\n",
        "interval2 = Interval(3, 8)\n",
        "\n",
        "overlap_result = interval1.is_overlapping(interval2)\n",
        "print(\"Do intervals overlap?\", overlap_result) # Do intervals overlap? True"
      ]
    },
    {
      "cell_type": "markdown",
      "metadata": {
        "id": "aelqtEfkni2N"
      },
      "source": [
        "### Task 3\n",
        "\n",
        "Expand the `Interval` class by adding a **static** method named `intersection_static` that calculates the intersection of two overlapping intervals. The static method should take two `Interval` objects as parameters and return a new `Interval` representing the intersection if there is one.\n",
        "\n",
        "The method should return `None` if the intervals do not overlap."
      ]
    },
    {
      "cell_type": "code",
      "execution_count": null,
      "metadata": {
        "id": "E6DNMmTRoyNa"
      },
      "outputs": [],
      "source": [
        "class Interval:\n",
        "    def __init__(self, start, end):\n",
        "        self.start = start\n",
        "        self.end = end\n",
        "        self.is_num()\n",
        "        self.real()\n",
        "\n",
        "    def is_num(self):\n",
        "        if isinstance(self.start, int) and isinstance(self.end, int) or isinstance(self.start, float) and isinstance(\n",
        "                self.end, float):\n",
        "            return self.start, self.end\n",
        "        elif isinstance(self.start, str) or isinstance(self.end, str) or isinstance(self.start, float) or isinstance(\n",
        "                self.end, float):\n",
        "            raise ValueError('Does not fit')\n",
        "\n",
        "    def real(self):\n",
        "        if self.start > self.end:\n",
        "            raise ValueError('Start must be smaller than end')\n",
        "        elif self.start <= self.end:\n",
        "            return self.start, self.end\n",
        "\n",
        "    def __str__(self):\n",
        "        return f'Interval [{self.start}, {self.end}]'\n",
        "\n",
        "    @staticmethod\n",
        "    def intersection_static(interval1, interval2):\n",
        "        if interval1.start < interval2.end and interval1.end > interval2.start:\n",
        "            new_start = max(interval1.start, interval2.start)\n",
        "            new_end = min(interval1.end, interval2.end)\n",
        "            return Interval(new_start, new_end)\n",
        "\n",
        "\n",
        "interval1 = Interval(1, 5)\n",
        "interval2 = Interval(3, 8)\n",
        "\n",
        "intersection_result_static = Interval.intersection_static(interval1, interval2)\n",
        "print(\"Intersection result (static method):\", intersection_result_static)  # Intersection result (static method): [3, 5]"
      ]
    },
    {
      "cell_type": "markdown",
      "metadata": {
        "id": "xGh7oQHFtsSl"
      },
      "source": [
        "### Task 4\n",
        "\n",
        "Expand the `Interval` class by overloading a math operator \"&\" to calculate the intersection of two overlapping intervals. Define the logic for the intersection using the method from the previous task."
      ]
    },
    {
      "cell_type": "code",
      "execution_count": null,
      "metadata": {
        "id": "3f3CiUlGu1cq"
      },
      "outputs": [],
      "source": [
        "class Interval:\n",
        "    def __init__(self, start, end):\n",
        "        self.start = start\n",
        "        self.end = end\n",
        "        self.is_num()\n",
        "        self.real()\n",
        "\n",
        "    def is_num(self):\n",
        "        if isinstance(self.start, int) and isinstance(self.end, int) or isinstance(self.start, float) and isinstance(\n",
        "                self.end, float):\n",
        "            return self.start, self.end\n",
        "        elif isinstance(self.start, str) or isinstance(self.end, str) or isinstance(self.start, float) or isinstance(\n",
        "                self.end, float):\n",
        "            raise ValueError('Does not fit')\n",
        "\n",
        "    def real(self):\n",
        "        if self.start > self.end:\n",
        "            raise ValueError('Start must be smaller than end')\n",
        "        elif self.start <= self.end:\n",
        "            return self.start, self.end\n",
        "\n",
        "    def __str__(self):\n",
        "        return f'Interval [{self.start}, {self.end}]'\n",
        "\n",
        "\n",
        "    def __and__(self, other):\n",
        "        if not isinstance(other, Interval):\n",
        "            raise TypeError(\"Operand must be an instance of Interval\")\n",
        "\n",
        "        if self.start < other.end and self.end > other.start:\n",
        "            new_start = max(self.start, other.start)\n",
        "            new_end = min(self.end, other.end)\n",
        "            return Interval(new_start, new_end)\n",
        "        else:\n",
        "            return None\n",
        "\n",
        "\n",
        "interval1 = Interval(1, 5)\n",
        "interval2 = Interval(5, 8)\n",
        "\n",
        "intersection_result = interval1 & interval2\n",
        "print(\"Intersection result:\", intersection_result) # Intersection result: [3, 5]"
      ]
    },
    {
      "cell_type": "markdown",
      "metadata": {
        "id": "51BGij2Tvoka"
      },
      "source": [
        "### Task 5\n",
        "\n",
        "Expand the `Interval` class by adding a static method named `union_static` that calculates the union of two overlapping intervals. The static method should take two Interval objects as parameters and return a new Interval representing the union if there is one.\n",
        "\n",
        "The method should return `None` if the intervals do not overlap."
      ]
    },
    {
      "cell_type": "code",
      "execution_count": 2,
      "metadata": {
        "id": "Xnm1CbK8v2v1",
        "colab": {
          "base_uri": "https://localhost:8080/"
        },
        "outputId": "1747e6cb-d43a-495c-d0fe-0dd19a9be719"
      },
      "outputs": [
        {
          "output_type": "stream",
          "name": "stdout",
          "text": [
            "Union Result (Static method): Interval [1, 8]\n"
          ]
        }
      ],
      "source": [
        "class Interval:\n",
        "    def __init__(self, start, end):\n",
        "        self.start = start\n",
        "        self.end = end\n",
        "        self.is_num()\n",
        "        self.real()\n",
        "\n",
        "    def is_num(self):\n",
        "        if isinstance(self.start, int) and isinstance(self.end, int) or isinstance(self.start, float) and isinstance(\n",
        "                self.end, float):\n",
        "            return self.start, self.end\n",
        "        elif isinstance(self.start, str) or isinstance(self.end, str) or isinstance(self.start, float) or isinstance(\n",
        "                self.end, float):\n",
        "            raise ValueError('Does not fit')\n",
        "\n",
        "    def real(self):\n",
        "        if self.start > self.end:\n",
        "            raise ValueError('Start must be smaller than end')\n",
        "        elif self.start <= self.end:\n",
        "            return self.start, self.end\n",
        "\n",
        "    def __str__(self):\n",
        "        return f'Interval [{self.start}, {self.end}]'\n",
        "\n",
        "    def __and__(self, other):\n",
        "        if not isinstance(other, Interval):\n",
        "            raise TypeError(\"Operand must be an instance of Interval\")\n",
        "\n",
        "        if self.start < other.end and self.end > other.start:\n",
        "            new_start = max(self.start, other.start)\n",
        "            new_end = min(self.end, other.end)\n",
        "            return Interval(new_start, new_end)\n",
        "        else:\n",
        "            return None\n",
        "\n",
        "    @staticmethod\n",
        "    def union_static(interval1, interval2):\n",
        "        if interval1.start <= interval2.end and interval1.end >= interval2.start:\n",
        "            new_start = min(interval1.start, interval2.start)\n",
        "            new_end = max(interval1.end, interval2.end)\n",
        "            return Interval(new_start, new_end)\n",
        "\n",
        "interval1 = Interval(1, 5)\n",
        "interval2 = Interval(3, 8)\n",
        "\n",
        "union_result_static = Interval.union_static(interval1, interval2)\n",
        "print(\"Union Result (Static method):\", union_result_static) # Union Result (Static method): [1, 8]"
      ]
    },
    {
      "cell_type": "markdown",
      "metadata": {
        "id": "5yGYlKjCwbzr"
      },
      "source": [
        "### Task 6\n",
        "\n",
        "Expand the `Interval` class by overloading a math operator \"|\" to calculate the union  of two overlapping intervals. Define the logic for the union using the method from the previous task."
      ]
    },
    {
      "cell_type": "code",
      "execution_count": null,
      "metadata": {
        "id": "xjCgPAy5wu1Z"
      },
      "outputs": [],
      "source": [
        "class Interval:\n",
        "    def __init__(self, start, end):\n",
        "        self.start = start\n",
        "        self.end = end\n",
        "        self.is_num()\n",
        "        self.real()\n",
        "\n",
        "    def is_num(self):\n",
        "        if isinstance(self.start, int) and isinstance(self.end, int) or isinstance(self.start, float) and isinstance(\n",
        "                self.end, float):\n",
        "            return self.start, self.end\n",
        "        elif isinstance(self.start, str) or isinstance(self.end, str) or isinstance(self.start, float) or isinstance(\n",
        "                self.end, float):\n",
        "            raise ValueError('Does not fit')\n",
        "\n",
        "    def real(self):\n",
        "        if self.start > self.end:\n",
        "            raise ValueError('Start must be smaller than end')\n",
        "        elif self.start <= self.end:\n",
        "            return self.start, self.end\n",
        "\n",
        "    def __str__(self):\n",
        "        return f'Interval [{self.start}, {self.end}]'\n",
        "\n",
        "    def __and__(self, other):\n",
        "        if not isinstance(other, Interval):\n",
        "            raise TypeError(\"Operand must be an instance of Interval\")\n",
        "\n",
        "        if self.start < other.end and self.end > other.start:\n",
        "            new_start = max(self.start, other.start)\n",
        "            new_end = min(self.end, other.end)\n",
        "            return Interval(new_start, new_end)\n",
        "        else:\n",
        "            return None\n",
        "\n",
        "\n",
        "    def __or__(self, other):\n",
        "        if not isinstance(other, Interval):\n",
        "            raise TypeError(\"Operand must be an instance of Interval\")\n",
        "        if self.start <= other.end and self.end >= other.start:\n",
        "            new_start = min(self.start, other.start)\n",
        "            new_end = max(self.end, other.end)\n",
        "            return Interval(new_start, new_end)\n",
        "        return None\n",
        "\n",
        "\n",
        "interval1 = Interval(1, 5)\n",
        "interval2 = Interval(3, 8)\n",
        "\n",
        "union_result = interval1 | interval2\n",
        "print(\"Union Result:\", union_result) # Union Result: [1, 8]"
      ]
    },
    {
      "cell_type": "markdown",
      "metadata": {
        "id": "N-hiSBEK0fbz"
      },
      "source": [
        "### Task 7 (optional)\n",
        "\n",
        "Expand the `Interval` class by overloading the \"-\" operator to calculate the difference between two intervals. The method should return a new `Interval` representing the portion of the first interval that is not in the second."
      ]
    },
    {
      "cell_type": "code",
      "execution_count": null,
      "metadata": {
        "id": "YZ5AqAXr002L"
      },
      "outputs": [],
      "source": [
        "class Interval:\n",
        "    def __init__(self, start, end):\n",
        "        self.start = start\n",
        "        self.end = end\n",
        "        self.is_num()\n",
        "        self.real()\n",
        "\n",
        "    def is_num(self):\n",
        "        if isinstance(self.start, int) and isinstance(self.end, int) or isinstance(self.start, float) and isinstance(\n",
        "                self.end, float):\n",
        "            return self.start, self.end\n",
        "        elif isinstance(self.start, str) or isinstance(self.end, str) or isinstance(self.start, float) or isinstance(\n",
        "                self.end, float):\n",
        "            raise ValueError('Does not fit')\n",
        "\n",
        "    def real(self):\n",
        "        if self.start > self.end:\n",
        "            raise ValueError('Start must be smaller than end')\n",
        "        elif self.start <= self.end:\n",
        "            return self.start, self.end\n",
        "\n",
        "    def __str__(self):\n",
        "        return f'Interval [{self.start}, {self.end}]'\n",
        "\n",
        "    def __sub__(self, other):\n",
        "        if not isinstance(other, Interval):\n",
        "            raise TypeError(\"Operand must be an instance of Interval\")\n",
        "\n",
        "\n",
        "        if self.end < other.start or self.start > other.end:\n",
        "            return self\n",
        "\n",
        "\n",
        "        if self.start < other.start and self.end > other.end:\n",
        "            return Interval(self.start, other.start)\n",
        "        elif other.start < self.start and other.end > self.end:\n",
        "            return Interval(self.end, self.end)\n",
        "\n",
        "\n",
        "        if self.start < other.start < self.end < other.end:\n",
        "            return Interval(self.start, other.start)\n",
        "        elif other.start < self.start < other.end < self.end:\n",
        "            return Interval(other.end, self.end)\n",
        "\n",
        "        return None\n",
        "\n",
        "\n",
        "\n",
        "\n",
        "\n",
        "interval1 = Interval(1, 5)\n",
        "interval2 = Interval(3, 8)\n",
        "\n",
        "print(\"Difference Result:\", interval1 - interval2) # Union Result: [1, 2]\n",
        "print(\"Difference Result:\", interval2 - interval1) # Union Result: [6, 8]"
      ]
    }
  ],
  "metadata": {
    "colab": {
      "provenance": [],
      "toc_visible": true,
      "include_colab_link": true
    },
    "kernelspec": {
      "display_name": "Python 3",
      "name": "python3"
    },
    "language_info": {
      "name": "python"
    }
  },
  "nbformat": 4,
  "nbformat_minor": 0
}